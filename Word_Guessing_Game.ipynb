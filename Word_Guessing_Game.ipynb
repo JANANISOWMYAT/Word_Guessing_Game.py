{
  "nbformat": 4,
  "nbformat_minor": 0,
  "metadata": {
    "colab": {
      "provenance": [],
      "authorship_tag": "ABX9TyNMTrAVX2QAO9cbLClLpmp6"
    },
    "kernelspec": {
      "name": "python3",
      "display_name": "Python 3"
    },
    "language_info": {
      "name": "python"
    }
  },
  "cells": [
    {
      "cell_type": "code",
      "source": [
        "import random\n",
        "\n",
        "wordList = [\"amazon\", \"google\", \"nasa\", \"space\", \"tech\" , \" peace\"]\n",
        "\n",
        "word = random.choice(wordList)\n",
        "\n",
        "guessedWord = ['_'] * len(word)\n",
        "\n",
        "attempts = 10\n",
        "\n",
        "while attempts > 0:\n",
        "\n",
        "    print(\"\\nCurrent word: \" + ' '.join(guessedWord))\n",
        "\n",
        "    guess = input(\"Guess a letter: \").lower()\n",
        "\n",
        "    if guess in word:\n",
        "        for i in range(len(word)):\n",
        "            if word[i] == guess:\n",
        "                guessedWord[i] = guess\n",
        "        print(\"Great guess!\")\n",
        "    else:\n",
        "        attempts -= 1\n",
        "        print(\"Wrong guess! Attempts left: \" + str(attempts))\n",
        "    if '_' not in guessedWord:\n",
        "        print(\"\\nCongratulations!! You guessed the word: \" + word)\n",
        "        break\n",
        "else:\n",
        "    print(\"\\nYou've run out of attempts! The word was: \" + word)"
      ],
      "metadata": {
        "colab": {
          "base_uri": "https://localhost:8080/"
        },
        "id": "rfIcW5jM4Rk5",
        "outputId": "9b9d129c-7c46-4936-96c1-e7cba2215c3a"
      },
      "execution_count": null,
      "outputs": [
        {
          "output_type": "stream",
          "name": "stdout",
          "text": [
            "\n",
            "Current word: _ _ _ _\n"
          ]
        }
      ]
    }
  ]
}